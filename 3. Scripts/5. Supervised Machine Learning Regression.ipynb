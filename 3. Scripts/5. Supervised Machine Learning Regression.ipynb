{
 "cells": [
  {
   "cell_type": "markdown",
   "id": "28bc9657",
   "metadata": {},
   "source": [
    "## Importing libraries and data"
   ]
  },
  {
   "cell_type": "code",
   "execution_count": 1,
   "id": "e11f9143",
   "metadata": {},
   "outputs": [],
   "source": [
    "import pandas as pd\n",
    "import numpy as np\n",
    "import seaborn as sns\n",
    "import matplotlib\n",
    "import matplotlib.pyplot as plt\n",
    "import os\n",
    "import sklearn\n",
    "from sklearn.model_selection import train_test_split \n",
    "from sklearn.linear_model import LinearRegression\n",
    "from sklearn.metrics import mean_squared_error, r2_score"
   ]
  },
  {
   "cell_type": "code",
   "execution_count": 2,
   "id": "54cd7159",
   "metadata": {},
   "outputs": [],
   "source": [
    "# To display the graphs within the notebook automatically\n",
    "\n",
    "%matplotlib inline"
   ]
  },
  {
   "cell_type": "code",
   "execution_count": 3,
   "id": "f60491bd",
   "metadata": {},
   "outputs": [],
   "source": [
    "# Define path\n",
    "\n",
    "path = r'/Users/vanessanunezpenas/Documents/Data Analysis Projects/Airbnb Berlin Ratings/2. Data'"
   ]
  },
  {
   "cell_type": "code",
   "execution_count": 4,
   "id": "ae15a6ac",
   "metadata": {},
   "outputs": [
    {
     "name": "stderr",
     "output_type": "stream",
     "text": [
      "/tmp/ipykernel_88703/1382111025.py:3: DtypeWarning: Columns (10) have mixed types. Specify dtype option on import or set low_memory=False.\n",
      "  berlin = pd.read_csv(os.path.join(path,'Prepared','airbnb_berlin_clean.csv'))\n"
     ]
    }
   ],
   "source": [
    "# Import Airbnb Berlin data\n",
    "\n",
    "berlin = pd.read_csv(os.path.join(path,'Prepared','airbnb_berlin_clean.csv'))"
   ]
  },
  {
   "cell_type": "markdown",
   "id": "3834e920",
   "metadata": {},
   "source": [
    "## Data Cleaning"
   ]
  },
  {
   "cell_type": "code",
   "execution_count": 5,
   "id": "0dbc9b7a",
   "metadata": {},
   "outputs": [],
   "source": [
    "# Create a subset with the columns to use\n",
    "\n",
    "sub_berlin = berlin[['Listing ID','Price','Overall Rating', 'Location Rating','Neighborhood Group', 'Postal Code']]"
   ]
  },
  {
   "cell_type": "code",
   "execution_count": 6,
   "id": "f2a71dd9",
   "metadata": {},
   "outputs": [
    {
     "data": {
      "text/html": [
       "<div>\n",
       "<style scoped>\n",
       "    .dataframe tbody tr th:only-of-type {\n",
       "        vertical-align: middle;\n",
       "    }\n",
       "\n",
       "    .dataframe tbody tr th {\n",
       "        vertical-align: top;\n",
       "    }\n",
       "\n",
       "    .dataframe thead th {\n",
       "        text-align: right;\n",
       "    }\n",
       "</style>\n",
       "<table border=\"1\" class=\"dataframe\">\n",
       "  <thead>\n",
       "    <tr style=\"text-align: right;\">\n",
       "      <th></th>\n",
       "      <th>Listing ID</th>\n",
       "      <th>Price</th>\n",
       "      <th>Overall Rating</th>\n",
       "      <th>Location Rating</th>\n",
       "      <th>Neighborhood Group</th>\n",
       "      <th>Postal Code</th>\n",
       "    </tr>\n",
       "  </thead>\n",
       "  <tbody>\n",
       "    <tr>\n",
       "      <th>0</th>\n",
       "      <td>10002699</td>\n",
       "      <td>60.0</td>\n",
       "      <td>100.0</td>\n",
       "      <td>10.0</td>\n",
       "      <td>Neukölln</td>\n",
       "      <td>12047.0</td>\n",
       "    </tr>\n",
       "    <tr>\n",
       "      <th>1</th>\n",
       "      <td>10006647</td>\n",
       "      <td>35.0</td>\n",
       "      <td>92.0</td>\n",
       "      <td>10.0</td>\n",
       "      <td>Mitte</td>\n",
       "      <td>10178.0</td>\n",
       "    </tr>\n",
       "    <tr>\n",
       "      <th>2</th>\n",
       "      <td>10006647</td>\n",
       "      <td>35.0</td>\n",
       "      <td>92.0</td>\n",
       "      <td>10.0</td>\n",
       "      <td>Mitte</td>\n",
       "      <td>10178.0</td>\n",
       "    </tr>\n",
       "    <tr>\n",
       "      <th>3</th>\n",
       "      <td>10006647</td>\n",
       "      <td>35.0</td>\n",
       "      <td>92.0</td>\n",
       "      <td>10.0</td>\n",
       "      <td>Mitte</td>\n",
       "      <td>10178.0</td>\n",
       "    </tr>\n",
       "    <tr>\n",
       "      <th>4</th>\n",
       "      <td>10006647</td>\n",
       "      <td>35.0</td>\n",
       "      <td>92.0</td>\n",
       "      <td>10.0</td>\n",
       "      <td>Mitte</td>\n",
       "      <td>10178.0</td>\n",
       "    </tr>\n",
       "  </tbody>\n",
       "</table>\n",
       "</div>"
      ],
      "text/plain": [
       "   Listing ID  Price  Overall Rating  Location Rating Neighborhood Group  \\\n",
       "0    10002699   60.0           100.0             10.0           Neukölln   \n",
       "1    10006647   35.0            92.0             10.0              Mitte   \n",
       "2    10006647   35.0            92.0             10.0              Mitte   \n",
       "3    10006647   35.0            92.0             10.0              Mitte   \n",
       "4    10006647   35.0            92.0             10.0              Mitte   \n",
       "\n",
       "  Postal Code  \n",
       "0     12047.0  \n",
       "1     10178.0  \n",
       "2     10178.0  \n",
       "3     10178.0  \n",
       "4     10178.0  "
      ]
     },
     "execution_count": 6,
     "metadata": {},
     "output_type": "execute_result"
    }
   ],
   "source": [
    "sub_berlin.head()"
   ]
  },
  {
   "cell_type": "code",
   "execution_count": 7,
   "id": "7be0f2ee",
   "metadata": {},
   "outputs": [
    {
     "data": {
      "text/plain": [
       "(451600, 6)"
      ]
     },
     "execution_count": 7,
     "metadata": {},
     "output_type": "execute_result"
    }
   ],
   "source": [
    "sub_berlin.shape"
   ]
  },
  {
   "cell_type": "code",
   "execution_count": 8,
   "id": "b7e9f4cf",
   "metadata": {},
   "outputs": [
    {
     "data": {
      "text/plain": [
       "Listing ID               0\n",
       "Price                    0\n",
       "Overall Rating           0\n",
       "Location Rating          0\n",
       "Neighborhood Group       0\n",
       "Postal Code           7568\n",
       "dtype: int64"
      ]
     },
     "execution_count": 8,
     "metadata": {},
     "output_type": "execute_result"
    }
   ],
   "source": [
    "sub_berlin.isnull().sum()"
   ]
  },
  {
   "cell_type": "markdown",
   "id": "2c04411d",
   "metadata": {},
   "source": [
    "Considering we can not to use the Postal Code column in the regression, we have decided to do nothing with the missing values in that column. "
   ]
  },
  {
   "cell_type": "code",
   "execution_count": 9,
   "id": "8265fa84",
   "metadata": {},
   "outputs": [
    {
     "name": "stdout",
     "output_type": "stream",
     "text": [
      "Postal Code\n"
     ]
    }
   ],
   "source": [
    "# Checking mixed-type data in same column\n",
    "\n",
    "for col in sub_berlin.columns.tolist():\n",
    "  weird = (sub_berlin[[col]].applymap(type) != sub_berlin[[col]].iloc[0].apply(type)).any(axis = 1)\n",
    "  if len (sub_berlin[weird]) > 0:\n",
    "    print (col)"
   ]
  },
  {
   "cell_type": "code",
   "execution_count": 10,
   "id": "edce475f",
   "metadata": {},
   "outputs": [
    {
     "name": "stderr",
     "output_type": "stream",
     "text": [
      "/tmp/ipykernel_88703/3212640793.py:1: SettingWithCopyWarning: \n",
      "A value is trying to be set on a copy of a slice from a DataFrame.\n",
      "Try using .loc[row_indexer,col_indexer] = value instead\n",
      "\n",
      "See the caveats in the documentation: https://pandas.pydata.org/pandas-docs/stable/user_guide/indexing.html#returning-a-view-versus-a-copy\n",
      "  sub_berlin['Postal Code'] = sub_berlin['Postal Code'].astype(str)\n"
     ]
    }
   ],
   "source": [
    "sub_berlin['Postal Code'] = sub_berlin['Postal Code'].astype(str)"
   ]
  },
  {
   "cell_type": "code",
   "execution_count": 11,
   "id": "e81462e7",
   "metadata": {},
   "outputs": [
    {
     "data": {
      "text/plain": [
       "Postal Code\n",
       "10115.0    18384\n",
       "10405.0    14301\n",
       "10119.0    13495\n",
       "10437.0    12660\n",
       "10247.0    12093\n",
       "           ...  \n",
       "16761.0        2\n",
       "13439          1\n",
       "12349          1\n",
       "14053.0        1\n",
       "14482.0        1\n",
       "Name: count, Length: 388, dtype: int64"
      ]
     },
     "execution_count": 11,
     "metadata": {},
     "output_type": "execute_result"
    }
   ],
   "source": [
    "sub_berlin['Postal Code'].value_counts(dropna = False)"
   ]
  },
  {
   "cell_type": "code",
   "execution_count": 12,
   "id": "c1d082e8",
   "metadata": {},
   "outputs": [
    {
     "name": "stderr",
     "output_type": "stream",
     "text": [
      "/tmp/ipykernel_88703/1298401731.py:3: SettingWithCopyWarning: \n",
      "A value is trying to be set on a copy of a slice from a DataFrame.\n",
      "Try using .loc[row_indexer,col_indexer] = value instead\n",
      "\n",
      "See the caveats in the documentation: https://pandas.pydata.org/pandas-docs/stable/user_guide/indexing.html#returning-a-view-versus-a-copy\n",
      "  sub_berlin['Postal Code_clean'] = sub_berlin['Postal Code'].str[:5]\n"
     ]
    }
   ],
   "source": [
    "# Extract postal codes\n",
    "\n",
    "sub_berlin['Postal Code_clean'] = sub_berlin['Postal Code'].str[:5]"
   ]
  },
  {
   "cell_type": "code",
   "execution_count": 13,
   "id": "24ed9dfd",
   "metadata": {},
   "outputs": [
    {
     "data": {
      "text/plain": [
       "Postal Code_clean\n",
       "10115    23480\n",
       "10405    17792\n",
       "10437    16649\n",
       "10119    16615\n",
       "10247    15859\n",
       "         ...  \n",
       "12046        5\n",
       "12279        5\n",
       "16761        2\n",
       "14482        1\n",
       "14053        1\n",
       "Name: count, Length: 201, dtype: int64"
      ]
     },
     "execution_count": 13,
     "metadata": {},
     "output_type": "execute_result"
    }
   ],
   "source": [
    "sub_berlin['Postal Code_clean'].value_counts(dropna = False)"
   ]
  },
  {
   "cell_type": "code",
   "execution_count": 14,
   "id": "d0e9e81d",
   "metadata": {},
   "outputs": [],
   "source": [
    "# Drop the dirty Postal Code column\n",
    "\n",
    "sub_berlin = sub_berlin.drop(columns=['Postal Code'])"
   ]
  },
  {
   "cell_type": "code",
   "execution_count": 15,
   "id": "17175c32",
   "metadata": {},
   "outputs": [],
   "source": [
    "# Renaming the new clean column\n",
    "\n",
    "sub_berlin.rename(columns = {'Postal Code_clean': 'Postal Code'}, inplace=True)"
   ]
  },
  {
   "cell_type": "code",
   "execution_count": 16,
   "id": "346f7036",
   "metadata": {},
   "outputs": [
    {
     "data": {
      "text/html": [
       "<div>\n",
       "<style scoped>\n",
       "    .dataframe tbody tr th:only-of-type {\n",
       "        vertical-align: middle;\n",
       "    }\n",
       "\n",
       "    .dataframe tbody tr th {\n",
       "        vertical-align: top;\n",
       "    }\n",
       "\n",
       "    .dataframe thead th {\n",
       "        text-align: right;\n",
       "    }\n",
       "</style>\n",
       "<table border=\"1\" class=\"dataframe\">\n",
       "  <thead>\n",
       "    <tr style=\"text-align: right;\">\n",
       "      <th></th>\n",
       "      <th>Listing ID</th>\n",
       "      <th>Price</th>\n",
       "      <th>Overall Rating</th>\n",
       "      <th>Location Rating</th>\n",
       "      <th>Neighborhood Group</th>\n",
       "      <th>Postal Code</th>\n",
       "    </tr>\n",
       "  </thead>\n",
       "  <tbody>\n",
       "    <tr>\n",
       "      <th>5029</th>\n",
       "      <td>102882</td>\n",
       "      <td>506.0</td>\n",
       "      <td>94.0</td>\n",
       "      <td>9.0</td>\n",
       "      <td>Friedrichshain-Kreuzberg</td>\n",
       "      <td>10967</td>\n",
       "    </tr>\n",
       "    <tr>\n",
       "      <th>5030</th>\n",
       "      <td>102882</td>\n",
       "      <td>506.0</td>\n",
       "      <td>94.0</td>\n",
       "      <td>9.0</td>\n",
       "      <td>Friedrichshain-Kreuzberg</td>\n",
       "      <td>10967</td>\n",
       "    </tr>\n",
       "    <tr>\n",
       "      <th>5031</th>\n",
       "      <td>102882</td>\n",
       "      <td>506.0</td>\n",
       "      <td>94.0</td>\n",
       "      <td>9.0</td>\n",
       "      <td>Friedrichshain-Kreuzberg</td>\n",
       "      <td>10967</td>\n",
       "    </tr>\n",
       "    <tr>\n",
       "      <th>5032</th>\n",
       "      <td>102882</td>\n",
       "      <td>506.0</td>\n",
       "      <td>94.0</td>\n",
       "      <td>9.0</td>\n",
       "      <td>Friedrichshain-Kreuzberg</td>\n",
       "      <td>10967</td>\n",
       "    </tr>\n",
       "    <tr>\n",
       "      <th>5033</th>\n",
       "      <td>102882</td>\n",
       "      <td>506.0</td>\n",
       "      <td>94.0</td>\n",
       "      <td>9.0</td>\n",
       "      <td>Friedrichshain-Kreuzberg</td>\n",
       "      <td>10967</td>\n",
       "    </tr>\n",
       "    <tr>\n",
       "      <th>...</th>\n",
       "      <td>...</td>\n",
       "      <td>...</td>\n",
       "      <td>...</td>\n",
       "      <td>...</td>\n",
       "      <td>...</td>\n",
       "      <td>...</td>\n",
       "    </tr>\n",
       "    <tr>\n",
       "      <th>447699</th>\n",
       "      <td>9770154</td>\n",
       "      <td>304.0</td>\n",
       "      <td>97.0</td>\n",
       "      <td>9.0</td>\n",
       "      <td>Friedrichshain-Kreuzberg</td>\n",
       "      <td>10965</td>\n",
       "    </tr>\n",
       "    <tr>\n",
       "      <th>447700</th>\n",
       "      <td>9770154</td>\n",
       "      <td>304.0</td>\n",
       "      <td>97.0</td>\n",
       "      <td>9.0</td>\n",
       "      <td>Friedrichshain-Kreuzberg</td>\n",
       "      <td>10965</td>\n",
       "    </tr>\n",
       "    <tr>\n",
       "      <th>447701</th>\n",
       "      <td>9770154</td>\n",
       "      <td>304.0</td>\n",
       "      <td>97.0</td>\n",
       "      <td>9.0</td>\n",
       "      <td>Friedrichshain-Kreuzberg</td>\n",
       "      <td>10965</td>\n",
       "    </tr>\n",
       "    <tr>\n",
       "      <th>447702</th>\n",
       "      <td>9770154</td>\n",
       "      <td>304.0</td>\n",
       "      <td>97.0</td>\n",
       "      <td>9.0</td>\n",
       "      <td>Friedrichshain-Kreuzberg</td>\n",
       "      <td>10965</td>\n",
       "    </tr>\n",
       "    <tr>\n",
       "      <th>447703</th>\n",
       "      <td>9770154</td>\n",
       "      <td>304.0</td>\n",
       "      <td>97.0</td>\n",
       "      <td>9.0</td>\n",
       "      <td>Friedrichshain-Kreuzberg</td>\n",
       "      <td>10965</td>\n",
       "    </tr>\n",
       "  </tbody>\n",
       "</table>\n",
       "<p>2410 rows × 6 columns</p>\n",
       "</div>"
      ],
      "text/plain": [
       "        Listing ID  Price  Overall Rating  Location Rating  \\\n",
       "5029        102882  506.0            94.0              9.0   \n",
       "5030        102882  506.0            94.0              9.0   \n",
       "5031        102882  506.0            94.0              9.0   \n",
       "5032        102882  506.0            94.0              9.0   \n",
       "5033        102882  506.0            94.0              9.0   \n",
       "...            ...    ...             ...              ...   \n",
       "447699     9770154  304.0            97.0              9.0   \n",
       "447700     9770154  304.0            97.0              9.0   \n",
       "447701     9770154  304.0            97.0              9.0   \n",
       "447702     9770154  304.0            97.0              9.0   \n",
       "447703     9770154  304.0            97.0              9.0   \n",
       "\n",
       "              Neighborhood Group Postal Code  \n",
       "5029    Friedrichshain-Kreuzberg       10967  \n",
       "5030    Friedrichshain-Kreuzberg       10967  \n",
       "5031    Friedrichshain-Kreuzberg       10967  \n",
       "5032    Friedrichshain-Kreuzberg       10967  \n",
       "5033    Friedrichshain-Kreuzberg       10967  \n",
       "...                          ...         ...  \n",
       "447699  Friedrichshain-Kreuzberg       10965  \n",
       "447700  Friedrichshain-Kreuzberg       10965  \n",
       "447701  Friedrichshain-Kreuzberg       10965  \n",
       "447702  Friedrichshain-Kreuzberg       10965  \n",
       "447703  Friedrichshain-Kreuzberg       10965  \n",
       "\n",
       "[2410 rows x 6 columns]"
      ]
     },
     "execution_count": 16,
     "metadata": {},
     "output_type": "execute_result"
    }
   ],
   "source": [
    "# Check extreme values in price\n",
    "\n",
    "sub_berlin[sub_berlin['Price'] > 300]"
   ]
  },
  {
   "cell_type": "code",
   "execution_count": 17,
   "id": "4d54df46",
   "metadata": {},
   "outputs": [
    {
     "data": {
      "text/plain": [
       "67.72978299379982"
      ]
     },
     "execution_count": 17,
     "metadata": {},
     "output_type": "execute_result"
    }
   ],
   "source": [
    "sub_berlin['Price'].mean()"
   ]
  },
  {
   "cell_type": "code",
   "execution_count": 18,
   "id": "0b442cb1",
   "metadata": {},
   "outputs": [
    {
     "data": {
      "text/plain": [
       "53.0"
      ]
     },
     "execution_count": 18,
     "metadata": {},
     "output_type": "execute_result"
    }
   ],
   "source": [
    "sub_berlin['Price'].median()"
   ]
  },
  {
   "cell_type": "code",
   "execution_count": 19,
   "id": "fad49fac",
   "metadata": {},
   "outputs": [
    {
     "data": {
      "text/plain": [
       "888.0"
      ]
     },
     "execution_count": 19,
     "metadata": {},
     "output_type": "execute_result"
    }
   ],
   "source": [
    "sub_berlin['Price'].max()"
   ]
  },
  {
   "cell_type": "code",
   "execution_count": 20,
   "id": "8ec5e487",
   "metadata": {},
   "outputs": [],
   "source": [
    "# Impute missing values with median\n",
    "\n",
    "sub_berlin['Price'].fillna(sub_berlin['Price'].median(),inplace=True)\n",
    "sub_berlin['Overall Rating'].fillna(sub_berlin['Overall Rating'].median(),inplace=True)\n",
    "sub_berlin['Location Rating'].fillna(sub_berlin['Location Rating'].median(),inplace=True)"
   ]
  },
  {
   "cell_type": "code",
   "execution_count": 21,
   "id": "09c9c38b",
   "metadata": {},
   "outputs": [],
   "source": [
    "# Clean extreme values\n",
    "\n",
    "sub_berlin = sub_berlin[sub_berlin['Price'] < 300]"
   ]
  },
  {
   "cell_type": "code",
   "execution_count": 22,
   "id": "4936985d",
   "metadata": {},
   "outputs": [
    {
     "data": {
      "text/plain": [
       "(448246, 6)"
      ]
     },
     "execution_count": 22,
     "metadata": {},
     "output_type": "execute_result"
    }
   ],
   "source": [
    "sub_berlin.shape"
   ]
  },
  {
   "cell_type": "code",
   "execution_count": 23,
   "id": "006bb629",
   "metadata": {},
   "outputs": [
    {
     "data": {
      "text/plain": [
       "Listing ID            0\n",
       "Price                 0\n",
       "Overall Rating        0\n",
       "Location Rating       0\n",
       "Neighborhood Group    0\n",
       "Postal Code           0\n",
       "dtype: int64"
      ]
     },
     "execution_count": 23,
     "metadata": {},
     "output_type": "execute_result"
    }
   ],
   "source": [
    "# 2nd check for missing values\n",
    "\n",
    "sub_berlin.isnull().sum()"
   ]
  },
  {
   "cell_type": "code",
   "execution_count": 24,
   "id": "adf19866",
   "metadata": {},
   "outputs": [
    {
     "data": {
      "text/plain": [
       "429525"
      ]
     },
     "execution_count": 24,
     "metadata": {},
     "output_type": "execute_result"
    }
   ],
   "source": [
    "# Checking Duplicates\n",
    "dups = sub_berlin.duplicated()\n",
    "dups.sum()"
   ]
  },
  {
   "cell_type": "code",
   "execution_count": 25,
   "id": "d6959324",
   "metadata": {},
   "outputs": [],
   "source": [
    "# Dropping duplicate values \n",
    "\n",
    "sub_berlin.drop_duplicates(keep='first', inplace=True)"
   ]
  },
  {
   "cell_type": "code",
   "execution_count": 26,
   "id": "509877fb",
   "metadata": {},
   "outputs": [
    {
     "data": {
      "text/plain": [
       "(448246,)"
      ]
     },
     "execution_count": 26,
     "metadata": {},
     "output_type": "execute_result"
    }
   ],
   "source": [
    "dups.shape"
   ]
  },
  {
   "cell_type": "code",
   "execution_count": 27,
   "id": "83807f98",
   "metadata": {},
   "outputs": [
    {
     "data": {
      "text/html": [
       "<div>\n",
       "<style scoped>\n",
       "    .dataframe tbody tr th:only-of-type {\n",
       "        vertical-align: middle;\n",
       "    }\n",
       "\n",
       "    .dataframe tbody tr th {\n",
       "        vertical-align: top;\n",
       "    }\n",
       "\n",
       "    .dataframe thead th {\n",
       "        text-align: right;\n",
       "    }\n",
       "</style>\n",
       "<table border=\"1\" class=\"dataframe\">\n",
       "  <thead>\n",
       "    <tr style=\"text-align: right;\">\n",
       "      <th></th>\n",
       "      <th>Listing ID</th>\n",
       "      <th>Price</th>\n",
       "      <th>Overall Rating</th>\n",
       "      <th>Location Rating</th>\n",
       "      <th>Neighborhood Group</th>\n",
       "      <th>Postal Code</th>\n",
       "    </tr>\n",
       "  </thead>\n",
       "  <tbody>\n",
       "    <tr>\n",
       "      <th>0</th>\n",
       "      <td>10002699</td>\n",
       "      <td>60.0</td>\n",
       "      <td>100.0</td>\n",
       "      <td>10.0</td>\n",
       "      <td>Neukölln</td>\n",
       "      <td>12047</td>\n",
       "    </tr>\n",
       "    <tr>\n",
       "      <th>1</th>\n",
       "      <td>10006647</td>\n",
       "      <td>35.0</td>\n",
       "      <td>92.0</td>\n",
       "      <td>10.0</td>\n",
       "      <td>Mitte</td>\n",
       "      <td>10178</td>\n",
       "    </tr>\n",
       "    <tr>\n",
       "      <th>21</th>\n",
       "      <td>10006747</td>\n",
       "      <td>30.0</td>\n",
       "      <td>90.0</td>\n",
       "      <td>9.0</td>\n",
       "      <td>Pankow</td>\n",
       "      <td>13189</td>\n",
       "    </tr>\n",
       "    <tr>\n",
       "      <th>23</th>\n",
       "      <td>10007526</td>\n",
       "      <td>30.0</td>\n",
       "      <td>100.0</td>\n",
       "      <td>9.0</td>\n",
       "      <td>Friedrichshain-Kreuzberg</td>\n",
       "      <td>10963</td>\n",
       "    </tr>\n",
       "    <tr>\n",
       "      <th>26</th>\n",
       "      <td>10007952</td>\n",
       "      <td>70.0</td>\n",
       "      <td>100.0</td>\n",
       "      <td>10.0</td>\n",
       "      <td>Steglitz - Zehlendorf</td>\n",
       "      <td>12163</td>\n",
       "    </tr>\n",
       "  </tbody>\n",
       "</table>\n",
       "</div>"
      ],
      "text/plain": [
       "    Listing ID  Price  Overall Rating  Location Rating  \\\n",
       "0     10002699   60.0           100.0             10.0   \n",
       "1     10006647   35.0            92.0             10.0   \n",
       "21    10006747   30.0            90.0              9.0   \n",
       "23    10007526   30.0           100.0              9.0   \n",
       "26    10007952   70.0           100.0             10.0   \n",
       "\n",
       "          Neighborhood Group Postal Code  \n",
       "0                   Neukölln       12047  \n",
       "1                      Mitte       10178  \n",
       "21                    Pankow       13189  \n",
       "23  Friedrichshain-Kreuzberg       10963  \n",
       "26     Steglitz - Zehlendorf       12163  "
      ]
     },
     "execution_count": 27,
     "metadata": {},
     "output_type": "execute_result"
    }
   ],
   "source": [
    "sub_berlin.head()"
   ]
  },
  {
   "cell_type": "markdown",
   "id": "9a3e8d00",
   "metadata": {},
   "source": [
    "## Explore the data visually"
   ]
  },
  {
   "cell_type": "code",
   "execution_count": 28,
   "id": "d048133d",
   "metadata": {},
   "outputs": [
    {
     "data": {
      "image/png": "[encoded data removed]",
      "text/plain": [
       "<Figure size 640x480 with 1 Axes>"
      ]
     },
     "metadata": {},
     "output_type": "display_data"
    }
   ],
   "source": [
    "# Create a scatterplot using matplotlib for another look at how the chosen variables plot against each other.\n",
    "\n",
    "sub_berlin.plot(x = 'Location Rating', y='Price',style='o')\n",
    "plt.title('Location Rating vs Price')  \n",
    "plt.xlabel('Location Rating')  \n",
    "plt.ylabel('Price')  \n",
    "plt.show()"
   ]
  },
  {
   "cell_type": "code",
   "execution_count": 29,
   "id": "41f37383",
   "metadata": {
    "scrolled": true
   },
   "outputs": [
    {
     "data": {
      "image/png": "[encoded data removed]",
      "text/plain": [
       "<Figure size 640x480 with 1 Axes>"
      ]
     },
     "metadata": {},
     "output_type": "display_data"
    }
   ],
   "source": [
    "sub_berlin.plot(x = 'Location Rating', y='Overall Rating',style='o')\n",
    "plt.title('Location Rating vs Overall Rating')  \n",
    "plt.xlabel('Location Rating')  \n",
    "plt.ylabel('Overall Rating')  \n",
    "plt.show()"
   ]
  },
  {
   "cell_type": "code",
   "execution_count": 30,
   "id": "e31e5a63",
   "metadata": {},
   "outputs": [
    {
     "data": {
      "image/png": "[encoded data removed]",
      "text/plain": [
       "<Figure size 640x480 with 1 Axes>"
      ]
     },
     "metadata": {},
     "output_type": "display_data"
    }
   ],
   "source": [
    "sub_berlin.plot(x = 'Postal Code', y='Price',style='o')\n",
    "plt.title('Postal Code vs Price')  \n",
    "plt.xlabel('Postal Code')  \n",
    "plt.ylabel('Price')  \n",
    "plt.show()"
   ]
  },
  {
   "cell_type": "markdown",
   "id": "1b58d6b6",
   "metadata": {},
   "source": [
    "The variables of our data set are not especially correlated, but we would like to look further the connection between location rating and price. It would be interesting to check it with the Postal Code, but unfortunately we cannot use this variable in the regression. "
   ]
  },
  {
   "cell_type": "markdown",
   "id": "b18db24d",
   "metadata": {},
   "source": [
    "## Reshape the variables"
   ]
  },
  {
   "cell_type": "code",
   "execution_count": 31,
   "id": "62ea403e",
   "metadata": {},
   "outputs": [],
   "source": [
    "# Reshape the variables into NumPy arrays and put them into separate objects.\n",
    "\n",
    "X = sub_berlin['Location Rating'].values.reshape(-1,1)\n",
    "y = sub_berlin['Price'].values.reshape(-1,1)"
   ]
  },
  {
   "cell_type": "code",
   "execution_count": 32,
   "id": "469c9982",
   "metadata": {},
   "outputs": [
    {
     "data": {
      "text/plain": [
       "array([[10.],\n",
       "       [10.],\n",
       "       [ 9.],\n",
       "       ...,\n",
       "       [10.],\n",
       "       [10.],\n",
       "       [ 9.]])"
      ]
     },
     "execution_count": 32,
     "metadata": {},
     "output_type": "execute_result"
    }
   ],
   "source": [
    "X"
   ]
  },
  {
   "cell_type": "code",
   "execution_count": 33,
   "id": "f73837ba",
   "metadata": {},
   "outputs": [
    {
     "data": {
      "text/plain": [
       "array([[ 60.],\n",
       "       [ 35.],\n",
       "       [ 30.],\n",
       "       ...,\n",
       "       [ 60.],\n",
       "       [150.],\n",
       "       [ 80.]])"
      ]
     },
     "execution_count": 33,
     "metadata": {},
     "output_type": "execute_result"
    }
   ],
   "source": [
    "y"
   ]
  },
  {
   "cell_type": "markdown",
   "id": "6d2772c3",
   "metadata": {},
   "source": [
    "## Split the data into two sets: a training set and a test set"
   ]
  },
  {
   "cell_type": "code",
   "execution_count": 34,
   "id": "8b681c80",
   "metadata": {},
   "outputs": [],
   "source": [
    "X_train, X_test, y_train, y_test = train_test_split(X, y, test_size=0.3, random_state=0)"
   ]
  },
  {
   "cell_type": "markdown",
   "id": "6b19e3d8",
   "metadata": {},
   "source": [
    "## Regression Analysis"
   ]
  },
  {
   "cell_type": "code",
   "execution_count": 35,
   "id": "0b8071df",
   "metadata": {},
   "outputs": [],
   "source": [
    "# Create a regression object.\n",
    "\n",
    "regression = LinearRegression()"
   ]
  },
  {
   "cell_type": "code",
   "execution_count": 36,
   "id": "2241e695",
   "metadata": {},
   "outputs": [
    {
     "data": {
      "text/html": [
       "<style>#sk-container-id-1 {color: black;}#sk-container-id-1 pre{padding: 0;}#sk-container-id-1 div.sk-toggleable {background-color: white;}#sk-container-id-1 label.sk-toggleable__label {cursor: pointer;display: block;width: 100%;margin-bottom: 0;padding: 0.3em;box-sizing: border-box;text-align: center;}#sk-container-id-1 label.sk-toggleable__label-arrow:before {content: \"▸\";float: left;margin-right: 0.25em;color: #696969;}#sk-container-id-1 label.sk-toggleable__label-arrow:hover:before {color: black;}#sk-container-id-1 div.sk-estimator:hover label.sk-toggleable__label-arrow:before {color: black;}#sk-container-id-1 div.sk-toggleable__content {max-height: 0;max-width: 0;overflow: hidden;text-align: left;background-color: #f0f8ff;}#sk-container-id-1 div.sk-toggleable__content pre {margin: 0.2em;color: black;border-radius: 0.25em;background-color: #f0f8ff;}#sk-container-id-1 input.sk-toggleable__control:checked~div.sk-toggleable__content {max-height: 200px;max-width: 100%;overflow: auto;}#sk-container-id-1 input.sk-toggleable__control:checked~label.sk-toggleable__label-arrow:before {content: \"▾\";}#sk-container-id-1 div.sk-estimator input.sk-toggleable__control:checked~label.sk-toggleable__label {background-color: #d4ebff;}#sk-container-id-1 div.sk-label input.sk-toggleable__control:checked~label.sk-toggleable__label {background-color: #d4ebff;}#sk-container-id-1 input.sk-hidden--visually {border: 0;clip: rect(1px 1px 1px 1px);clip: rect(1px, 1px, 1px, 1px);height: 1px;margin: -1px;overflow: hidden;padding: 0;position: absolute;width: 1px;}#sk-container-id-1 div.sk-estimator {font-family: monospace;background-color: #f0f8ff;border: 1px dotted black;border-radius: 0.25em;box-sizing: border-box;margin-bottom: 0.5em;}#sk-container-id-1 div.sk-estimator:hover {background-color: #d4ebff;}#sk-container-id-1 div.sk-parallel-item::after {content: \"\";width: 100%;border-bottom: 1px solid gray;flex-grow: 1;}#sk-container-id-1 div.sk-label:hover label.sk-toggleable__label {background-color: #d4ebff;}#sk-container-id-1 div.sk-serial::before {content: \"\";position: absolute;border-left: 1px solid gray;box-sizing: border-box;top: 0;bottom: 0;left: 50%;z-index: 0;}#sk-container-id-1 div.sk-serial {display: flex;flex-direction: column;align-items: center;background-color: white;padding-right: 0.2em;padding-left: 0.2em;position: relative;}#sk-container-id-1 div.sk-item {position: relative;z-index: 1;}#sk-container-id-1 div.sk-parallel {display: flex;align-items: stretch;justify-content: center;background-color: white;position: relative;}#sk-container-id-1 div.sk-item::before, #sk-container-id-1 div.sk-parallel-item::before {content: \"\";position: absolute;border-left: 1px solid gray;box-sizing: border-box;top: 0;bottom: 0;left: 50%;z-index: -1;}#sk-container-id-1 div.sk-parallel-item {display: flex;flex-direction: column;z-index: 1;position: relative;background-color: white;}#sk-container-id-1 div.sk-parallel-item:first-child::after {align-self: flex-end;width: 50%;}#sk-container-id-1 div.sk-parallel-item:last-child::after {align-self: flex-start;width: 50%;}#sk-container-id-1 div.sk-parallel-item:only-child::after {width: 0;}#sk-container-id-1 div.sk-dashed-wrapped {border: 1px dashed gray;margin: 0 0.4em 0.5em 0.4em;box-sizing: border-box;padding-bottom: 0.4em;background-color: white;}#sk-container-id-1 div.sk-label label {font-family: monospace;font-weight: bold;display: inline-block;line-height: 1.2em;}#sk-container-id-1 div.sk-label-container {text-align: center;}#sk-container-id-1 div.sk-container {/* jupyter's `normalize.less` sets `[hidden] { display: none; }` but bootstrap.min.css set `[hidden] { display: none !important; }` so we also need the `!important` here to be able to override the default hidden behavior on the sphinx rendered scikit-learn.org. See: https://github.com/scikit-learn/scikit-learn/issues/21755 */display: inline-block !important;position: relative;}#sk-container-id-1 div.sk-text-repr-fallback {display: none;}</style><div id=\"sk-container-id-1\" class=\"sk-top-container\"><div class=\"sk-text-repr-fallback\"><pre>LinearRegression()</pre><b>In a Jupyter environment, please rerun this cell to show the HTML representation or trust the notebook. <br />On GitHub, the HTML representation is unable to render, please try loading this page with nbviewer.org.</b></div><div class=\"sk-container\" hidden><div class=\"sk-item\"><div class=\"sk-estimator sk-toggleable\"><input class=\"sk-toggleable__control sk-hidden--visually\" id=\"sk-estimator-id-1\" type=\"checkbox\" checked><label for=\"sk-estimator-id-1\" class=\"sk-toggleable__label sk-toggleable__label-arrow\">LinearRegression</label><div class=\"sk-toggleable__content\"><pre>LinearRegression()</pre></div></div></div></div></div>"
      ],
      "text/plain": [
       "LinearRegression()"
      ]
     },
     "execution_count": 36,
     "metadata": {},
     "output_type": "execute_result"
    }
   ],
   "source": [
    "# Fit the regression object onto the training set.\n",
    "\n",
    "regression.fit(X_train, y_train)"
   ]
  },
  {
   "cell_type": "code",
   "execution_count": 37,
   "id": "ded32b26",
   "metadata": {},
   "outputs": [],
   "source": [
    "# Predict the values of y using X.\n",
    "\n",
    "y_predicted = regression.predict(X_test)"
   ]
  },
  {
   "cell_type": "markdown",
   "id": "d9cdf9a9",
   "metadata": {},
   "source": [
    "## Create a plot that shows the regression line on the test set"
   ]
  },
  {
   "cell_type": "code",
   "execution_count": 38,
   "id": "7d38941c",
   "metadata": {},
   "outputs": [
    {
     "data": {
      "image/png": "[encoded data removed]",
      "text/plain": [
       "<Figure size 640x480 with 1 Axes>"
      ]
     },
     "metadata": {},
     "output_type": "display_data"
    }
   ],
   "source": [
    "plot_test = plt\n",
    "plot_test.scatter(X_test, y_test, color='gray', s = 15)\n",
    "plot_test.plot(X_test, y_predicted, color='red', linewidth =3)\n",
    "plot_test.title('Location Rating vs Price (Test set)')\n",
    "plot_test.xlabel('Location Rating')\n",
    "plot_test.ylabel('Price')\n",
    "plot_test.show()"
   ]
  },
  {
   "cell_type": "markdown",
   "id": "0dc7e7a9",
   "metadata": {},
   "source": [
    "As expected, the linear model represented by the red regression line doesn’t cover the data points."
   ]
  },
  {
   "cell_type": "markdown",
   "id": "b73b37a8",
   "metadata": {},
   "source": [
    "## Check the model performance statistics"
   ]
  },
  {
   "cell_type": "code",
   "execution_count": 39,
   "id": "7228d840",
   "metadata": {},
   "outputs": [],
   "source": [
    "# Create objects that contain the model summary statistics.\n",
    "\n",
    "rmse = mean_squared_error(y_test, y_predicted) # This is the mean squared error\n",
    "r2 = r2_score(y_test, y_predicted) # This is the R2 score. "
   ]
  },
  {
   "cell_type": "code",
   "execution_count": 40,
   "id": "6b78cb81",
   "metadata": {},
   "outputs": [
    {
     "name": "stdout",
     "output_type": "stream",
     "text": [
      "Slope: [[4.09195589]]\n",
      "Mean squared error:  1567.1558648632474\n",
      "R2 score:  0.0040413152172469324\n"
     ]
    }
   ],
   "source": [
    "# Print the model summary statistics. This is where you evaluate the performance of the model.\n",
    "\n",
    "print('Slope:' ,regression.coef_)\n",
    "print('Mean squared error: ', rmse)\n",
    "print('R2 score: ', r2)"
   ]
  },
  {
   "cell_type": "code",
   "execution_count": 41,
   "id": "0fb80a2b",
   "metadata": {},
   "outputs": [
    {
     "data": {
      "text/plain": [
       "array([[60.54344814],\n",
       "       [60.54344814],\n",
       "       [60.54344814],\n",
       "       ...,\n",
       "       [60.54344814],\n",
       "       [56.45149226],\n",
       "       [60.54344814]])"
      ]
     },
     "execution_count": 41,
     "metadata": {},
     "output_type": "execute_result"
    }
   ],
   "source": [
    "y_predicted"
   ]
  },
  {
   "cell_type": "code",
   "execution_count": 42,
   "id": "b43f4ff4",
   "metadata": {},
   "outputs": [
    {
     "data": {
      "text/html": [
       "<div>\n",
       "<style scoped>\n",
       "    .dataframe tbody tr th:only-of-type {\n",
       "        vertical-align: middle;\n",
       "    }\n",
       "\n",
       "    .dataframe tbody tr th {\n",
       "        vertical-align: top;\n",
       "    }\n",
       "\n",
       "    .dataframe thead th {\n",
       "        text-align: right;\n",
       "    }\n",
       "</style>\n",
       "<table border=\"1\" class=\"dataframe\">\n",
       "  <thead>\n",
       "    <tr style=\"text-align: right;\">\n",
       "      <th></th>\n",
       "      <th>Actual</th>\n",
       "      <th>Predicted</th>\n",
       "    </tr>\n",
       "  </thead>\n",
       "  <tbody>\n",
       "    <tr>\n",
       "      <th>0</th>\n",
       "      <td>50.0</td>\n",
       "      <td>60.543448</td>\n",
       "    </tr>\n",
       "    <tr>\n",
       "      <th>1</th>\n",
       "      <td>250.0</td>\n",
       "      <td>60.543448</td>\n",
       "    </tr>\n",
       "    <tr>\n",
       "      <th>2</th>\n",
       "      <td>50.0</td>\n",
       "      <td>60.543448</td>\n",
       "    </tr>\n",
       "    <tr>\n",
       "      <th>3</th>\n",
       "      <td>22.0</td>\n",
       "      <td>60.543448</td>\n",
       "    </tr>\n",
       "    <tr>\n",
       "      <th>4</th>\n",
       "      <td>49.0</td>\n",
       "      <td>60.543448</td>\n",
       "    </tr>\n",
       "    <tr>\n",
       "      <th>5</th>\n",
       "      <td>40.0</td>\n",
       "      <td>60.543448</td>\n",
       "    </tr>\n",
       "    <tr>\n",
       "      <th>6</th>\n",
       "      <td>43.0</td>\n",
       "      <td>60.543448</td>\n",
       "    </tr>\n",
       "    <tr>\n",
       "      <th>7</th>\n",
       "      <td>30.0</td>\n",
       "      <td>56.451492</td>\n",
       "    </tr>\n",
       "    <tr>\n",
       "      <th>8</th>\n",
       "      <td>50.0</td>\n",
       "      <td>60.543448</td>\n",
       "    </tr>\n",
       "    <tr>\n",
       "      <th>9</th>\n",
       "      <td>40.0</td>\n",
       "      <td>56.451492</td>\n",
       "    </tr>\n",
       "    <tr>\n",
       "      <th>10</th>\n",
       "      <td>60.0</td>\n",
       "      <td>56.451492</td>\n",
       "    </tr>\n",
       "    <tr>\n",
       "      <th>11</th>\n",
       "      <td>50.0</td>\n",
       "      <td>60.543448</td>\n",
       "    </tr>\n",
       "    <tr>\n",
       "      <th>12</th>\n",
       "      <td>119.0</td>\n",
       "      <td>60.543448</td>\n",
       "    </tr>\n",
       "    <tr>\n",
       "      <th>13</th>\n",
       "      <td>40.0</td>\n",
       "      <td>56.451492</td>\n",
       "    </tr>\n",
       "    <tr>\n",
       "      <th>14</th>\n",
       "      <td>49.0</td>\n",
       "      <td>60.543448</td>\n",
       "    </tr>\n",
       "    <tr>\n",
       "      <th>15</th>\n",
       "      <td>50.0</td>\n",
       "      <td>56.451492</td>\n",
       "    </tr>\n",
       "    <tr>\n",
       "      <th>16</th>\n",
       "      <td>50.0</td>\n",
       "      <td>56.451492</td>\n",
       "    </tr>\n",
       "    <tr>\n",
       "      <th>17</th>\n",
       "      <td>30.0</td>\n",
       "      <td>60.543448</td>\n",
       "    </tr>\n",
       "    <tr>\n",
       "      <th>18</th>\n",
       "      <td>95.0</td>\n",
       "      <td>60.543448</td>\n",
       "    </tr>\n",
       "    <tr>\n",
       "      <th>19</th>\n",
       "      <td>75.0</td>\n",
       "      <td>60.543448</td>\n",
       "    </tr>\n",
       "    <tr>\n",
       "      <th>20</th>\n",
       "      <td>35.0</td>\n",
       "      <td>60.543448</td>\n",
       "    </tr>\n",
       "    <tr>\n",
       "      <th>21</th>\n",
       "      <td>45.0</td>\n",
       "      <td>60.543448</td>\n",
       "    </tr>\n",
       "    <tr>\n",
       "      <th>22</th>\n",
       "      <td>36.0</td>\n",
       "      <td>60.543448</td>\n",
       "    </tr>\n",
       "    <tr>\n",
       "      <th>23</th>\n",
       "      <td>13.0</td>\n",
       "      <td>60.543448</td>\n",
       "    </tr>\n",
       "    <tr>\n",
       "      <th>24</th>\n",
       "      <td>35.0</td>\n",
       "      <td>60.543448</td>\n",
       "    </tr>\n",
       "    <tr>\n",
       "      <th>25</th>\n",
       "      <td>65.0</td>\n",
       "      <td>60.543448</td>\n",
       "    </tr>\n",
       "    <tr>\n",
       "      <th>26</th>\n",
       "      <td>100.0</td>\n",
       "      <td>60.543448</td>\n",
       "    </tr>\n",
       "    <tr>\n",
       "      <th>27</th>\n",
       "      <td>34.0</td>\n",
       "      <td>60.543448</td>\n",
       "    </tr>\n",
       "    <tr>\n",
       "      <th>28</th>\n",
       "      <td>25.0</td>\n",
       "      <td>60.543448</td>\n",
       "    </tr>\n",
       "    <tr>\n",
       "      <th>29</th>\n",
       "      <td>57.0</td>\n",
       "      <td>56.451492</td>\n",
       "    </tr>\n",
       "  </tbody>\n",
       "</table>\n",
       "</div>"
      ],
      "text/plain": [
       "    Actual  Predicted\n",
       "0     50.0  60.543448\n",
       "1    250.0  60.543448\n",
       "2     50.0  60.543448\n",
       "3     22.0  60.543448\n",
       "4     49.0  60.543448\n",
       "5     40.0  60.543448\n",
       "6     43.0  60.543448\n",
       "7     30.0  56.451492\n",
       "8     50.0  60.543448\n",
       "9     40.0  56.451492\n",
       "10    60.0  56.451492\n",
       "11    50.0  60.543448\n",
       "12   119.0  60.543448\n",
       "13    40.0  56.451492\n",
       "14    49.0  60.543448\n",
       "15    50.0  56.451492\n",
       "16    50.0  56.451492\n",
       "17    30.0  60.543448\n",
       "18    95.0  60.543448\n",
       "19    75.0  60.543448\n",
       "20    35.0  60.543448\n",
       "21    45.0  60.543448\n",
       "22    36.0  60.543448\n",
       "23    13.0  60.543448\n",
       "24    35.0  60.543448\n",
       "25    65.0  60.543448\n",
       "26   100.0  60.543448\n",
       "27    34.0  60.543448\n",
       "28    25.0  60.543448\n",
       "29    57.0  56.451492"
      ]
     },
     "execution_count": 42,
     "metadata": {},
     "output_type": "execute_result"
    }
   ],
   "source": [
    "# Create a dataframe comparing the actual and predicted values of y.\n",
    "\n",
    "data = pd.DataFrame({'Actual': y_test.flatten(), 'Predicted': y_predicted.flatten()})\n",
    "data.head(30)"
   ]
  },
  {
   "cell_type": "markdown",
   "id": "29612cd5",
   "metadata": {},
   "source": [
    "The model is totally innacurated and the location rating has not influence at all in the price. \n",
    "\n",
    "Unfortunately, our data set had no better columns to use for this exercise. "
   ]
  }
 ],
 "metadata": {
  "kernelspec": {
   "display_name": "Python 3 (ipykernel)",
   "language": "python",
   "name": "python3"
  },
  "language_info": {
   "codemirror_mode": {
    "name": "ipython",
    "version": 3
   },
   "file_extension": ".py",
   "mimetype": "text/x-python",
   "name": "python",
   "nbconvert_exporter": "python",
   "pygments_lexer": "ipython3",
   "version": "3.11.5"
  }
 },
 "nbformat": 4,
 "nbformat_minor": 5
}
